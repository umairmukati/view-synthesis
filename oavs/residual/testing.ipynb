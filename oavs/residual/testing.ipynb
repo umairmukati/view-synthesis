{
 "cells": [
  {
   "cell_type": "markdown",
   "metadata": {},
   "source": [
    "#### IMPORT LIBRARIES"
   ]
  },
  {
   "cell_type": "code",
   "execution_count": 1,
   "metadata": {},
   "outputs": [],
   "source": [
    "import numpy as np\n",
    "import h5py as h5\n",
    "\n",
    "import torch\n",
    "from torchvision import datasets, transforms\n",
    "import torch.nn.functional as F\n",
    "import torch.nn as nn\n",
    "import torch.optim as optim\n",
    "from torch.autograd import Variable\n",
    "\n",
    "\n",
    "import matplotlib.pyplot as plt\n",
    "from importlib import reload, import_module\n",
    "\n",
    "import glob\n",
    "import os\n",
    "\n",
    "import pdb\n",
    "from PIL import Image as im\n",
    "import _pickle as pickle\n",
    "import cv2\n",
    "\n",
    "from functions import processLF, get_variable, get_numpy, psnr_1"
   ]
  },
  {
   "cell_type": "markdown",
   "metadata": {},
   "source": [
    "#### DATASET PATH"
   ]
  },
  {
   "cell_type": "code",
   "execution_count": 2,
   "metadata": {},
   "outputs": [],
   "source": [
    "if os.name == 'nt':\n",
    "    dataset_file = r\"C:\\Users\\mummu\\Documents\\Datasets\\srinivasan\\trainset\\h5\\8bit.h5\"\n",
    "    test_file    = r\"C:\\Users\\mummu\\Documents\\Datasets\\srinivasan\\testset\\h5\\8bit.h5\"\n",
    "    model_file   = r\"model\\model.pt\"\n",
    "    network_file = r\"network\"\n",
    "    img_dir      = r\"C:\\Users\\mummu\\Documents\\Datasets\\kalantari\\testset\\EXTRA\"\n",
    "    img_paper    = r\"C:\\Users\\mummu\\Documents\\Datasets\\kalantari\\testset\\PAPER\"\n",
    "    \n",
    "elif os.name == 'posix':\n",
    "    raise NotImplementedError"
   ]
  },
  {
   "cell_type": "markdown",
   "metadata": {},
   "source": [
    "#### BASIC PARAMETERS"
   ]
  },
  {
   "cell_type": "code",
   "execution_count": 3,
   "metadata": {},
   "outputs": [],
   "source": [
    "minibatch_size = 1\n",
    "gamma_val      = 0.4\n",
    "lfsize         = [372, 540, 7, 7]\n",
    "batch_affine   = True"
   ]
  },
  {
   "cell_type": "code",
   "execution_count": 4,
   "metadata": {},
   "outputs": [],
   "source": [
    "trans = transforms.ToTensor()\n",
    "p = np.ndarray([1])\n",
    "q = np.ndarray([1])"
   ]
  },
  {
   "cell_type": "code",
   "execution_count": 5,
   "metadata": {
    "scrolled": true
   },
   "outputs": [
    {
     "name": "stdout",
     "output_type": "stream",
     "text": [
      "##converting network to cuda-enabled\n",
      "Model successfully loaded.\n"
     ]
    }
   ],
   "source": [
    "network_module = import_module(network_file)\n",
    "reload(network_module)\n",
    "\n",
    "Net = network_module.Net\n",
    "\n",
    "net = Net((lfsize[0], lfsize[1]), minibatch_size, lfsize, batchAffine=batch_affine)\n",
    "net.eval()\n",
    "\n",
    "if torch.cuda.is_available():\n",
    "    print('##converting network to cuda-enabled')\n",
    "    net.cuda()\n",
    "\n",
    "try:\n",
    "    checkpoint = torch.load(model_file)\n",
    "    \n",
    "    net.load_my_state_dict(checkpoint['model'].state_dict())    \n",
    "    print('Model successfully loaded.')\n",
    "    \n",
    "except:\n",
    "    print('No model.')"
   ]
  },
  {
   "cell_type": "code",
   "execution_count": 6,
   "metadata": {},
   "outputs": [],
   "source": [
    "# To delete\n",
    "#result = im.fromarray((get_numpy(corn[0,:3].permute(1,2,0)+1)/2 * 255).astype(np.uint8));result.save('corner1_f.png');\n",
    "#result = im.fromarray((get_numpy(corn[0,3:6].permute(1,2,0)+1)/2 * 255).astype(np.uint8));result.save('corner2_f.png');\n",
    "#result = im.fromarray((get_numpy(corn[0,6:9].permute(1,2,0)+1)/2 * 255).astype(np.uint8));result.save('corner3_f.png');\n",
    "#result = im.fromarray((get_numpy(corn[0,9:].permute(1,2,0)+1)/2 * 255).astype(np.uint8));result.save('corner4_f.png');"
   ]
  },
  {
   "cell_type": "code",
   "execution_count": 7,
   "metadata": {
    "scrolled": true
   },
   "outputs": [],
   "source": [
    "def single_run(index, img_path = img_paper, img_name = 'Seahorse.png'):\n",
    "            \n",
    "    img = cv2.imread(os.path.join(img_path, img_name))\n",
    "                    \n",
    "    img = processLF(trans(img), lfsize, gamma_val)\n",
    "    \n",
    "    T = img[:, :, index[0], index[1], :].squeeze()\n",
    "    corn = img[:, :, [0, -1, 0, -1], [0, 0, -1, -1], :].squeeze()\n",
    "    \n",
    "    Y, R = synthesizeView(corn, index)\n",
    "\n",
    "    return T, Y, R"
   ]
  },
  {
   "cell_type": "code",
   "execution_count": 8,
   "metadata": {},
   "outputs": [],
   "source": [
    "def synthesizeView(corn, index):\n",
    "                \n",
    "    p[0] = (index[0] - lfsize[2]//2)/(lfsize[2]//2)\n",
    "    q[0] = (index[1] - lfsize[3]//2)/(lfsize[3]//2)\n",
    "    \n",
    "    corn = corn.permute(2,3,0,1).reshape(12,corn.shape[0],corn.shape[1])[None,:]\n",
    "\n",
    "    with torch.no_grad():\n",
    "        Y, R = net(get_variable(corn), get_variable(torch.from_numpy(p)), get_variable(torch.from_numpy(q)))\n",
    "        \n",
    "    return Y[0].permute(1,2,0), R[0].permute(1,2,0)"
   ]
  },
  {
   "cell_type": "code",
   "execution_count": 11,
   "metadata": {
    "scrolled": true
   },
   "outputs": [],
   "source": [
    "T, Y, R = single_run([3,3], img_name = 'Rock.png')"
   ]
  },
  {
   "cell_type": "code",
   "execution_count": 28,
   "metadata": {},
   "outputs": [
    {
     "data": {
      "text/plain": [
       "(array([0.0000e+00, 0.0000e+00, 0.0000e+00, 0.0000e+00, 0.0000e+00,\n",
       "        0.0000e+00, 1.0000e+00, 1.0000e+00, 1.0000e+00, 0.0000e+00,\n",
       "        3.0000e+00, 1.0000e+00, 1.0000e+00, 0.0000e+00, 0.0000e+00,\n",
       "        0.0000e+00, 0.0000e+00, 0.0000e+00, 0.0000e+00, 0.0000e+00,\n",
       "        2.0000e+00, 0.0000e+00, 1.0000e+00, 0.0000e+00, 1.0000e+00,\n",
       "        0.0000e+00, 0.0000e+00, 3.0000e+00, 0.0000e+00, 5.0000e+00,\n",
       "        1.0000e+00, 2.0000e+00, 2.0000e+00, 5.0000e+00, 5.0000e+00,\n",
       "        6.0000e+00, 5.0000e+00, 1.1000e+01, 3.0000e+00, 9.0000e+00,\n",
       "        1.0000e+01, 5.0000e+00, 8.0000e+00, 3.0000e+00, 9.0000e+00,\n",
       "        9.0000e+00, 1.5000e+01, 1.1000e+01, 1.9000e+01, 1.4000e+01,\n",
       "        2.6000e+01, 3.1000e+01, 3.1000e+01, 3.1000e+01, 3.0000e+01,\n",
       "        3.9000e+01, 4.7000e+01, 6.3000e+01, 6.7000e+01, 6.9000e+01,\n",
       "        7.5000e+01, 9.6000e+01, 1.0700e+02, 9.8000e+01, 1.1700e+02,\n",
       "        1.5400e+02, 1.5300e+02, 1.9000e+02, 2.0000e+02, 3.0600e+02,\n",
       "        3.6400e+02, 4.1300e+02, 5.0500e+02, 6.0400e+02, 8.8400e+02,\n",
       "        1.0180e+03, 1.3020e+03, 1.6340e+03, 1.9390e+03, 2.4410e+03,\n",
       "        2.8990e+03, 3.2030e+03, 3.8780e+03, 4.3700e+03, 5.2010e+03,\n",
       "        6.0960e+03, 6.9920e+03, 8.1590e+03, 9.0080e+03, 1.0161e+04,\n",
       "        1.1103e+04, 1.2352e+04, 1.3615e+04, 1.5033e+04, 1.6260e+04,\n",
       "        1.7269e+04, 1.8415e+04, 1.9365e+04, 1.9974e+04, 2.0173e+04,\n",
       "        2.0511e+04, 2.1165e+04, 2.1392e+04, 2.1539e+04, 2.1700e+04,\n",
       "        2.1943e+04, 2.2177e+04, 2.2322e+04, 2.1932e+04, 2.1707e+04,\n",
       "        2.0691e+04, 1.9475e+04, 1.7460e+04, 1.5531e+04, 1.3495e+04,\n",
       "        1.1324e+04, 8.5120e+03, 6.5900e+03, 5.0420e+03, 3.9510e+03,\n",
       "        3.3300e+03, 2.7520e+03, 2.4540e+03, 2.1890e+03, 1.8150e+03,\n",
       "        1.7530e+03, 1.6190e+03, 1.3800e+03, 1.2660e+03, 1.0520e+03,\n",
       "        9.7200e+02, 8.0300e+02, 7.7900e+02, 6.1100e+02, 5.3600e+02,\n",
       "        5.0200e+02, 4.3200e+02, 3.3500e+02, 2.8200e+02, 2.6500e+02,\n",
       "        2.5300e+02, 2.3600e+02, 1.7900e+02, 1.6400e+02, 1.4600e+02,\n",
       "        1.2400e+02, 1.0500e+02, 1.0200e+02, 9.3000e+01, 6.8000e+01,\n",
       "        9.2000e+01, 6.4000e+01, 5.8000e+01, 4.2000e+01, 4.6000e+01,\n",
       "        3.7000e+01, 4.3000e+01, 3.3000e+01, 4.2000e+01, 3.3000e+01,\n",
       "        2.2000e+01, 1.9000e+01, 2.5000e+01, 2.0000e+01, 2.0000e+01,\n",
       "        1.5000e+01, 1.3000e+01, 1.8000e+01, 1.3000e+01, 1.2000e+01,\n",
       "        9.0000e+00, 1.4000e+01, 1.1000e+01, 6.0000e+00, 9.0000e+00,\n",
       "        1.0000e+01, 7.0000e+00, 1.0000e+00, 8.0000e+00, 7.0000e+00,\n",
       "        7.0000e+00, 2.0000e+00, 7.0000e+00, 4.0000e+00, 4.0000e+00,\n",
       "        2.0000e+00, 4.0000e+00, 6.0000e+00, 2.0000e+00, 1.0000e+00,\n",
       "        1.0000e+00, 3.0000e+00, 2.0000e+00, 4.0000e+00, 4.0000e+00,\n",
       "        2.0000e+00, 1.0000e+00, 3.0000e+00, 3.0000e+00]),\n",
       " array([-1.00000000e-02, -9.90000000e-03, -9.80000000e-03, -9.70000000e-03,\n",
       "        -9.60000000e-03, -9.50000000e-03, -9.40000000e-03, -9.30000000e-03,\n",
       "        -9.20000000e-03, -9.10000000e-03, -9.00000000e-03, -8.90000000e-03,\n",
       "        -8.80000000e-03, -8.70000000e-03, -8.60000000e-03, -8.50000000e-03,\n",
       "        -8.40000000e-03, -8.30000000e-03, -8.20000000e-03, -8.10000000e-03,\n",
       "        -8.00000000e-03, -7.90000000e-03, -7.80000000e-03, -7.70000000e-03,\n",
       "        -7.60000000e-03, -7.50000000e-03, -7.40000000e-03, -7.30000000e-03,\n",
       "        -7.20000000e-03, -7.10000000e-03, -7.00000000e-03, -6.90000000e-03,\n",
       "        -6.80000000e-03, -6.70000000e-03, -6.60000000e-03, -6.50000000e-03,\n",
       "        -6.40000000e-03, -6.30000000e-03, -6.20000000e-03, -6.10000000e-03,\n",
       "        -6.00000000e-03, -5.90000000e-03, -5.80000000e-03, -5.70000000e-03,\n",
       "        -5.60000000e-03, -5.50000000e-03, -5.40000000e-03, -5.30000000e-03,\n",
       "        -5.20000000e-03, -5.10000000e-03, -5.00000000e-03, -4.90000000e-03,\n",
       "        -4.80000000e-03, -4.70000000e-03, -4.60000000e-03, -4.50000000e-03,\n",
       "        -4.40000000e-03, -4.30000000e-03, -4.20000000e-03, -4.10000000e-03,\n",
       "        -4.00000000e-03, -3.90000000e-03, -3.80000000e-03, -3.70000000e-03,\n",
       "        -3.60000000e-03, -3.50000000e-03, -3.40000000e-03, -3.30000000e-03,\n",
       "        -3.20000000e-03, -3.10000000e-03, -3.00000000e-03, -2.90000000e-03,\n",
       "        -2.80000000e-03, -2.70000000e-03, -2.60000000e-03, -2.50000000e-03,\n",
       "        -2.40000000e-03, -2.30000000e-03, -2.20000000e-03, -2.10000000e-03,\n",
       "        -2.00000000e-03, -1.90000000e-03, -1.80000000e-03, -1.70000000e-03,\n",
       "        -1.60000000e-03, -1.50000000e-03, -1.40000000e-03, -1.30000000e-03,\n",
       "        -1.20000000e-03, -1.10000000e-03, -1.00000000e-03, -9.00000000e-04,\n",
       "        -8.00000000e-04, -7.00000000e-04, -6.00000000e-04, -5.00000000e-04,\n",
       "        -4.00000000e-04, -3.00000000e-04, -2.00000000e-04, -1.00000000e-04,\n",
       "        -6.07153217e-17,  1.00000000e-04,  2.00000000e-04,  3.00000000e-04,\n",
       "         4.00000000e-04,  5.00000000e-04,  6.00000000e-04,  7.00000000e-04,\n",
       "         8.00000000e-04,  9.00000000e-04,  1.00000000e-03,  1.10000000e-03,\n",
       "         1.20000000e-03,  1.30000000e-03,  1.40000000e-03,  1.50000000e-03,\n",
       "         1.60000000e-03,  1.70000000e-03,  1.80000000e-03,  1.90000000e-03,\n",
       "         2.00000000e-03,  2.10000000e-03,  2.20000000e-03,  2.30000000e-03,\n",
       "         2.40000000e-03,  2.50000000e-03,  2.60000000e-03,  2.70000000e-03,\n",
       "         2.80000000e-03,  2.90000000e-03,  3.00000000e-03,  3.10000000e-03,\n",
       "         3.20000000e-03,  3.30000000e-03,  3.40000000e-03,  3.50000000e-03,\n",
       "         3.60000000e-03,  3.70000000e-03,  3.80000000e-03,  3.90000000e-03,\n",
       "         4.00000000e-03,  4.10000000e-03,  4.20000000e-03,  4.30000000e-03,\n",
       "         4.40000000e-03,  4.50000000e-03,  4.60000000e-03,  4.70000000e-03,\n",
       "         4.80000000e-03,  4.90000000e-03,  5.00000000e-03,  5.10000000e-03,\n",
       "         5.20000000e-03,  5.30000000e-03,  5.40000000e-03,  5.50000000e-03,\n",
       "         5.60000000e-03,  5.70000000e-03,  5.80000000e-03,  5.90000000e-03,\n",
       "         6.00000000e-03,  6.10000000e-03,  6.20000000e-03,  6.30000000e-03,\n",
       "         6.40000000e-03,  6.50000000e-03,  6.60000000e-03,  6.70000000e-03,\n",
       "         6.80000000e-03,  6.90000000e-03,  7.00000000e-03,  7.10000000e-03,\n",
       "         7.20000000e-03,  7.30000000e-03,  7.40000000e-03,  7.50000000e-03,\n",
       "         7.60000000e-03,  7.70000000e-03,  7.80000000e-03,  7.90000000e-03,\n",
       "         8.00000000e-03,  8.10000000e-03,  8.20000000e-03,  8.30000000e-03,\n",
       "         8.40000000e-03,  8.50000000e-03,  8.60000000e-03,  8.70000000e-03,\n",
       "         8.80000000e-03,  8.90000000e-03,  9.00000000e-03,  9.10000000e-03,\n",
       "         9.20000000e-03,  9.30000000e-03,  9.40000000e-03,  9.50000000e-03,\n",
       "         9.60000000e-03,  9.70000000e-03,  9.80000000e-03,  9.90000000e-03]),\n",
       " <a list of 199 Patch objects>)"
      ]
     },
     "execution_count": 28,
     "metadata": {},
     "output_type": "execute_result"
    },
    {
     "data": {
      "image/png": "[encoded data removed]",
      "text/plain": [
       "<Figure size 432x288 with 1 Axes>"
      ]
     },
     "metadata": {
      "needs_background": "light"
     },
     "output_type": "display_data"
    }
   ],
   "source": [
    "plt.hist((get_numpy(R.reshape(-1,1))),bins=np.arange(-0.01, 0.01, 0.0001))"
   ]
  },
  {
   "cell_type": "code",
   "execution_count": null,
   "metadata": {
    "scrolled": true
   },
   "outputs": [],
   "source": [
    "# Run for all examples in the folder and every perspectives\n",
    "def run_all_examples(img_path):\n",
    "        \n",
    "    files = [file for file in os.listdir(img_path) if file.endswith(\".png\")]\n",
    "    ps = np.ndarray((len(files),7,7))\n",
    "\n",
    "    for fi in range(len(files)):\n",
    "\n",
    "        file = files[fi]\n",
    "\n",
    "        print(\"Current file {}: {}\" .format(fi,file))\n",
    "\n",
    "        img = cv2.imread(os.path.join(img_path, file))\n",
    "        img = processLF(trans(img), lfsize, gamma_val)\n",
    "\n",
    "        corn = img[:, :, [0, -1, 0, -1], [0, 0, -1, -1], :].squeeze()\n",
    "\n",
    "        for i in range(7):\n",
    "            for j in range(7):\n",
    "\n",
    "                T = get_numpy(img[:, :, i, j, :])\n",
    "                Y,R,d = synthesizeView(corn, [i, j])\n",
    "                Y = get_numpy(Y)\n",
    "\n",
    "                ps[fi,i,j] = psnr_1(T, Y)\n",
    "        \n",
    "        psnr_excl_corners = ps[fi].reshape(-1)[[i for i in range(49) if (i-np.array((0,6,42,48))).all()]].mean()\n",
    "        \n",
    "        print(\"Current PSNR: {}\" .format(psnr_excl_corners))\n",
    "    \n",
    "    return ps\n",
    "                \n",
    "    "
   ]
  },
  {
   "cell_type": "code",
   "execution_count": null,
   "metadata": {
    "scrolled": true
   },
   "outputs": [],
   "source": [
    "ps = run_all_examples(img_paper)"
   ]
  },
  {
   "cell_type": "code",
   "execution_count": null,
   "metadata": {},
   "outputs": [],
   "source": [
    "np.set_printoptions(precision = 2)\n",
    "ps[3]"
   ]
  },
  {
   "cell_type": "code",
   "execution_count": null,
   "metadata": {},
   "outputs": [],
   "source": []
  },
  {
   "cell_type": "code",
   "execution_count": null,
   "metadata": {
    "scrolled": true
   },
   "outputs": [],
   "source": [
    "# np.set_printoptions(precision=2)\n",
    "# print(ps)\n",
    "\n",
    "#for index, val in enumerate(list)\n",
    "files = [file for file in os.listdir(img_dir) if file.endswith(\".png\")]"
   ]
  },
  {
   "cell_type": "code",
   "execution_count": null,
   "metadata": {},
   "outputs": [],
   "source": [
    "#for _, fi in enumerate(files):\n",
    "ps.reshape(len(files),-1)[:,[i for i in range(49) if (i-np.array((0,6,42,48))).all()]].mean()"
   ]
  },
  {
   "cell_type": "code",
   "execution_count": null,
   "metadata": {},
   "outputs": [],
   "source": []
  }
 ],
 "metadata": {
  "kernelspec": {
   "display_name": "Python 3",
   "language": "python",
   "name": "python3"
  },
  "language_info": {
   "codemirror_mode": {
    "name": "ipython",
    "version": 3
   },
   "file_extension": ".py",
   "mimetype": "text/x-python",
   "name": "python",
   "nbconvert_exporter": "python",
   "pygments_lexer": "ipython3",
   "version": "3.7.4"
  }
 },
 "nbformat": 4,
 "nbformat_minor": 2
}
