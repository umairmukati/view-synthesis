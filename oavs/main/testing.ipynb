{
 "cells": [
  {
   "cell_type": "markdown",
   "metadata": {},
   "source": [
    "#### IMPORT LIBRARIES"
   ]
  },
  {
   "cell_type": "code",
   "execution_count": 1,
   "metadata": {},
   "outputs": [],
   "source": [
    "import numpy as np\n",
    "import h5py as h5\n",
    "\n",
    "import torch\n",
    "from torchvision import datasets, transforms\n",
    "import torch.nn.functional as F\n",
    "import torch.nn as nn\n",
    "import torch.optim as optim\n",
    "from torch.autograd import Variable\n",
    "\n",
    "\n",
    "import matplotlib.pyplot as plt\n",
    "from importlib import reload, import_module\n",
    "\n",
    "import glob\n",
    "import os\n",
    "\n",
    "import pdb\n",
    "from PIL import Image as im\n",
    "import _pickle as pickle\n",
    "import cv2\n",
    "\n",
    "from datetime import datetime\n",
    "\n",
    "from functions import processLF, get_variable, get_numpy, psnr_1, sd_to_usd"
   ]
  },
  {
   "cell_type": "markdown",
   "metadata": {},
   "source": [
    "#### DATASET PATH"
   ]
  },
  {
   "cell_type": "code",
   "execution_count": 2,
   "metadata": {},
   "outputs": [],
   "source": [
    "if os.name == 'nt':\n",
    "    dataset_file = r\"C:\\Users\\mummu\\Documents\\Datasets\\srinivasan\\trainset\\h5\\8bit.h5\"\n",
    "    test_file    = r\"C:\\Users\\mummu\\Documents\\Datasets\\srinivasan\\testset\\h5\\8bit.h5\"\n",
    "    model_file   = r\"model\\model.pt\"\n",
    "    network_file = r\"network\"\n",
    "    img_dir      = r\"C:\\Users\\mummu\\Documents\\Datasets\\kalantari\\testset\\EXTRA\"\n",
    "    img_paper    = r\"C:\\Users\\mummu\\Documents\\Datasets\\kalantari\\testset\\PAPER\"\n",
    "    test_sri     = r\"C:\\Users\\mummu\\Documents\\Datasets\\srinivasan\\testset\"\n",
    "    \n",
    "        \n",
    "elif os.name == 'posix':\n",
    "    raise NotImplementedError"
   ]
  },
  {
   "cell_type": "markdown",
   "metadata": {},
   "source": [
    "#### BASIC PARAMETERS"
   ]
  },
  {
   "cell_type": "code",
   "execution_count": 3,
   "metadata": {},
   "outputs": [],
   "source": [
    "minibatch_size = 1\n",
    "gamma_val      = 1.0\n",
    "lfsize         = [372, 540, 7, 7]\n",
    "batch_affine   = True"
   ]
  },
  {
   "cell_type": "code",
   "execution_count": 4,
   "metadata": {},
   "outputs": [],
   "source": [
    "trans = transforms.ToTensor()\n",
    "p = np.ndarray([1])\n",
    "q = np.ndarray([1])"
   ]
  },
  {
   "cell_type": "code",
   "execution_count": 5,
   "metadata": {
    "scrolled": true
   },
   "outputs": [
    {
     "name": "stdout",
     "output_type": "stream",
     "text": [
      "##converting network to cuda-enabled\n",
      "Model successfully loaded.\n"
     ]
    }
   ],
   "source": [
    "network_module = import_module(network_file)\n",
    "reload(network_module)\n",
    "\n",
    "Net = network_module.Net\n",
    "\n",
    "net = Net((lfsize[0], lfsize[1]), minibatch_size, lfsize, batchAffine=batch_affine)\n",
    "net.eval()\n",
    "\n",
    "if torch.cuda.is_available():\n",
    "    print('##converting network to cuda-enabled')\n",
    "    net.cuda()\n",
    "\n",
    "try:\n",
    "    checkpoint = torch.load(model_file)\n",
    "    \n",
    "    net.load_state_dict(checkpoint['model'].state_dict())    \n",
    "    print('Model successfully loaded.')\n",
    "    \n",
    "except:\n",
    "    print('No model.')"
   ]
  },
  {
   "cell_type": "code",
   "execution_count": 6,
   "metadata": {},
   "outputs": [],
   "source": [
    "# To delete\n",
    "#result = im.fromarray((get_numpy(corn[0,:3].permute(1,2,0)+1)/2 * 255).astype(np.uint8));result.save('corner1_f.png');\n",
    "#result = im.fromarray((get_numpy(corn[0,3:6].permute(1,2,0)+1)/2 * 255).astype(np.uint8));result.save('corner2_f.png');\n",
    "#result = im.fromarray((get_numpy(corn[0,6:9].permute(1,2,0)+1)/2 * 255).astype(np.uint8));result.save('corner3_f.png');\n",
    "#result = im.fromarray((get_numpy(corn[0,9:].permute(1,2,0)+1)/2 * 255).astype(np.uint8));result.save('corner4_f.png');"
   ]
  },
  {
   "cell_type": "code",
   "execution_count": 7,
   "metadata": {
    "scrolled": true
   },
   "outputs": [],
   "source": [
    "def single_run(index, img_path = img_paper, img_name = 'Seahorse.png'):\n",
    "            \n",
    "    img = cv2.imread(os.path.join(img_path, img_name))\n",
    "                    \n",
    "    img = processLF(trans(img), lfsize, gamma_val)\n",
    "    \n",
    "    T = img[:, :, index[0], index[1], :].squeeze()\n",
    "    corn = img[:, :, [0, -1, 0, -1], [0, 0, -1, -1], :].squeeze()\n",
    "    \n",
    "    Y, R, d = synthesizeView(corn, index)\n",
    "\n",
    "    return T, Y, d"
   ]
  },
  {
   "cell_type": "code",
   "execution_count": 8,
   "metadata": {},
   "outputs": [],
   "source": [
    "def synthesizeView(corn, index):\n",
    "                \n",
    "    p[0] = (index[0] - lfsize[2]//2)/(lfsize[2]//2)\n",
    "    q[0] = (index[1] - lfsize[3]//2)/(lfsize[3]//2)\n",
    "    \n",
    "    corn = corn.permute(2,3,0,1).reshape(12,corn.shape[0],corn.shape[1])[None,:]\n",
    "\n",
    "    with torch.no_grad():\n",
    "        Y, R, d = net(get_variable(corn), get_variable(torch.from_numpy(p)), get_variable(torch.from_numpy(q)))\n",
    "        \n",
    "    return Y[0].permute(1,2,0), R[0].permute(1,2,0), d"
   ]
  },
  {
   "cell_type": "code",
   "execution_count": 9,
   "metadata": {
    "scrolled": true
   },
   "outputs": [],
   "source": [
    "#Y,R,d = single_run([3,3], img_name = 'Rock.png')\n",
    "#plt.imshow(get_numpy(d[0,0]+4)/8, cmap = 'gray', vmin = 0, vmax = 1.0);"
   ]
  },
  {
   "cell_type": "code",
   "execution_count": 10,
   "metadata": {
    "scrolled": true
   },
   "outputs": [],
   "source": [
    "# Run for all examples in the folder and every perspectives\n",
    "def run_all_examples(img_path):\n",
    "        \n",
    "    files = [file for file in os.listdir(img_path) if file.endswith(\".png\")]\n",
    "    ps = np.ndarray((len(files),7,7))\n",
    "\n",
    "    for fi in range(len(files)):\n",
    "\n",
    "        file = files[fi]\n",
    "\n",
    "        print(\"Current file {}: {}\" .format(fi,file))\n",
    "\n",
    "        img = cv2.imread(os.path.join(img_path, file))\n",
    "        img = processLF(trans(img), lfsize, gamma_val)\n",
    "\n",
    "        corn = img[:, :, [0, -1, 0, -1], [0, 0, -1, -1], :].squeeze()\n",
    "\n",
    "        for i in range(7):\n",
    "            for j in range(7):\n",
    "\n",
    "                T = get_numpy(img[:, :, i, j, :])\n",
    "                Y,R,d = synthesizeView(corn, [i, j])\n",
    "                Y = get_numpy(Y)\n",
    "\n",
    "                ps[fi,i,j] = psnr_1(sd_to_usd(T), sd_to_usd(Y))\n",
    "        \n",
    "        psnr_excl_corners = ps[fi].reshape(-1)[[i for i in range(49) if (i-np.array((0,6,42,48))).all()]].mean()\n",
    "        \n",
    "        print(\"Current PSNR: {}\" .format(psnr_excl_corners))\n",
    "    \n",
    "    return ps\n",
    "                \n",
    "    "
   ]
  },
  {
   "cell_type": "code",
   "execution_count": 11,
   "metadata": {
    "scrolled": true
   },
   "outputs": [
    {
     "name": "stdout",
     "output_type": "stream",
     "text": [
      "date and time = 11/04/2020 10:47:24\n",
      "Current file 0: Cars.png\n"
     ]
    },
    {
     "name": "stderr",
     "output_type": "stream",
     "text": [
      "C:\\Users\\mummu\\AppData\\Local\\Continuum\\anaconda3\\lib\\site-packages\\torch\\nn\\functional.py:2404: UserWarning: nn.functional.upsample is deprecated. Use nn.functional.interpolate instead.\n",
      "  warnings.warn(\"nn.functional.upsample is deprecated. Use nn.functional.interpolate instead.\")\n"
     ]
    },
    {
     "name": "stdout",
     "output_type": "stream",
     "text": [
      "Current PSNR: 31.562804051466912\n",
      "Current file 1: Flower1.png\n",
      "Current PSNR: 33.042409235669965\n",
      "Current file 2: Flower2.png\n",
      "Current PSNR: 33.05761230973208\n",
      "Current file 3: IMG_1085_eslf.png\n",
      "Current PSNR: 40.581017234640015\n",
      "Current file 4: IMG_1086_eslf.png\n",
      "Current PSNR: 42.147651114452394\n",
      "Current file 5: IMG_1184_eslf.png\n",
      "Current PSNR: 41.78923838356847\n",
      "Current file 6: IMG_1187_eslf.png\n",
      "Current PSNR: 40.946153835603255\n",
      "Current file 7: IMG_1306_eslf.png\n",
      "Current PSNR: 38.055590290320936\n",
      "Current file 8: IMG_1312_eslf.png\n",
      "Current PSNR: 44.52790418289266\n",
      "Current file 9: IMG_1316_eslf.png\n",
      "Current PSNR: 38.50927456990736\n",
      "Current file 10: IMG_1317_eslf.png\n",
      "Current PSNR: 36.71043618722326\n",
      "Current file 11: IMG_1320_eslf.png\n",
      "Current PSNR: 36.591555403960065\n",
      "Current file 12: IMG_1321_eslf.png\n",
      "Current PSNR: 43.58893152577145\n",
      "Current file 13: IMG_1324_eslf.png\n",
      "Current PSNR: 47.91847880548245\n",
      "Current file 14: IMG_1325_eslf.png\n",
      "Current PSNR: 40.85802420040675\n",
      "Current file 15: IMG_1327_eslf.png\n",
      "Current PSNR: 37.608689754210424\n",
      "Current file 16: IMG_1328_eslf.png\n",
      "Current PSNR: 41.82950073627097\n",
      "Current file 17: IMG_1340_eslf.png\n",
      "Current PSNR: 45.413789480766276\n",
      "Current file 18: IMG_1389_eslf.png\n",
      "Current PSNR: 42.76589951151171\n",
      "Current file 19: IMG_1390_eslf.png\n",
      "Current PSNR: 45.17453393715021\n",
      "Current file 20: IMG_1411_eslf.png\n",
      "Current PSNR: 31.490544961685465\n",
      "Current file 21: IMG_1419_eslf.png\n",
      "Current PSNR: 33.62790104553578\n",
      "Current file 22: IMG_1528_eslf.png\n",
      "Current PSNR: 33.30416425916387\n",
      "Current file 23: IMG_1541_eslf.png\n",
      "Current PSNR: 33.992505075938645\n",
      "Current file 24: IMG_1554_eslf.png\n",
      "Current PSNR: 28.653530398850116\n",
      "Current file 25: IMG_1555_eslf.png\n",
      "Current PSNR: 31.379842645509452\n",
      "Current file 26: IMG_1586_eslf.png\n",
      "Current PSNR: 39.57524753773052\n",
      "Current file 27: IMG_1743_eslf.png\n",
      "Current PSNR: 36.578848230709866\n",
      "Current file 28: Rock.png\n",
      "Current PSNR: 35.94423428506505\n",
      "Current file 29: Seahorse.png\n",
      "Current PSNR: 34.41110863315335\n"
     ]
    },
    {
     "ename": "ValueError",
     "evalue": "cannot reshape array of size 1470 into shape (100,newaxis)",
     "output_type": "error",
     "traceback": [
      "\u001b[1;31m------------------------------------------------------------------------\u001b[0m",
      "\u001b[1;31mValueError\u001b[0m                             Traceback (most recent call last)",
      "\u001b[1;32m<ipython-input-11-6fd15d102965>\u001b[0m in \u001b[0;36m<module>\u001b[1;34m\u001b[0m\n\u001b[0;32m      4\u001b[0m \u001b[0mprint\u001b[0m\u001b[1;33m(\u001b[0m\u001b[1;34m\"date and time =\"\u001b[0m\u001b[1;33m,\u001b[0m \u001b[0mdt_string\u001b[0m\u001b[1;33m)\u001b[0m\u001b[1;33m\u001b[0m\u001b[1;33m\u001b[0m\u001b[0m\n\u001b[0;32m      5\u001b[0m \u001b[0mps\u001b[0m \u001b[1;33m=\u001b[0m \u001b[0mrun_all_examples\u001b[0m\u001b[1;33m(\u001b[0m\u001b[0mimg_dir\u001b[0m\u001b[1;33m)\u001b[0m\u001b[1;33m\u001b[0m\u001b[1;33m\u001b[0m\u001b[0m\n\u001b[1;32m----> 6\u001b[1;33m \u001b[0mps\u001b[0m\u001b[1;33m.\u001b[0m\u001b[0mreshape\u001b[0m\u001b[1;33m(\u001b[0m\u001b[1;36m100\u001b[0m\u001b[1;33m,\u001b[0m\u001b[1;33m-\u001b[0m\u001b[1;36m1\u001b[0m\u001b[1;33m)\u001b[0m\u001b[1;33m[\u001b[0m\u001b[1;33m:\u001b[0m\u001b[1;33m,\u001b[0m\u001b[1;33m[\u001b[0m\u001b[0mi\u001b[0m \u001b[1;32mfor\u001b[0m \u001b[0mi\u001b[0m \u001b[1;32min\u001b[0m \u001b[0mrange\u001b[0m\u001b[1;33m(\u001b[0m\u001b[1;36m49\u001b[0m\u001b[1;33m)\u001b[0m \u001b[1;32mif\u001b[0m \u001b[1;33m(\u001b[0m\u001b[0mi\u001b[0m\u001b[1;33m-\u001b[0m\u001b[0mnp\u001b[0m\u001b[1;33m.\u001b[0m\u001b[0marray\u001b[0m\u001b[1;33m(\u001b[0m\u001b[1;33m(\u001b[0m\u001b[1;36m0\u001b[0m\u001b[1;33m,\u001b[0m\u001b[1;36m6\u001b[0m\u001b[1;33m,\u001b[0m\u001b[1;36m42\u001b[0m\u001b[1;33m,\u001b[0m\u001b[1;36m48\u001b[0m\u001b[1;33m)\u001b[0m\u001b[1;33m)\u001b[0m\u001b[1;33m)\u001b[0m\u001b[1;33m.\u001b[0m\u001b[0mall\u001b[0m\u001b[1;33m(\u001b[0m\u001b[1;33m)\u001b[0m\u001b[1;33m]\u001b[0m\u001b[1;33m]\u001b[0m\u001b[1;33m.\u001b[0m\u001b[0mmean\u001b[0m\u001b[1;33m(\u001b[0m\u001b[1;33m)\u001b[0m\u001b[1;33m\u001b[0m\u001b[1;33m\u001b[0m\u001b[0m\n\u001b[0m",
      "\u001b[1;31mValueError\u001b[0m: cannot reshape array of size 1470 into shape (100,newaxis)"
     ]
    }
   ],
   "source": [
    "# With Bias and affine (B_BA_GN with gamma = 1.0)\n",
    "now = datetime.now()\n",
    "dt_string = now.strftime(\"%d/%m/%Y %H:%M:%S\")\n",
    "print(\"date and time =\", dt_string)\n",
    "ps = run_all_examples(img_dir)"
   ]
  },
  {
   "cell_type": "code",
   "execution_count": 13,
   "metadata": {},
   "outputs": [
    {
     "data": {
      "text/plain": [
       "38.054580727478324"
      ]
     },
     "execution_count": 13,
     "metadata": {},
     "output_type": "execute_result"
    }
   ],
   "source": [
    "ps.reshape(30,-1)[:,[i for i in range(49) if (i-np.array((0,6,42,48))).all()]].mean()"
   ]
  },
  {
   "cell_type": "code",
   "execution_count": 22,
   "metadata": {},
   "outputs": [
    {
     "name": "stdout",
     "output_type": "stream",
     "text": [
      "date and time = 11/04/2020 08:09:36\n",
      "Current file 0: IMG_2227_eslf.png\n",
      "Current PSNR: 36.789850293782514\n",
      "Current file 1: IMG_2326_eslf.png\n",
      "Current PSNR: 37.405323085714556\n",
      "Current file 2: IMG_2459_eslf.png\n",
      "Current PSNR: 35.29839595976429\n",
      "Current file 3: IMG_2463_eslf.png\n",
      "Current PSNR: 38.26815234235622\n",
      "Current file 4: IMG_3408_eslf.png\n",
      "Current PSNR: 36.30268143067899\n",
      "Current file 5: IMG_3416_eslf.png\n",
      "Current PSNR: 36.08595409639734\n",
      "Current file 6: IMG_3683_eslf.png\n",
      "Current PSNR: 37.28302131904665\n",
      "Current file 7: IMG_3694_eslf.png\n",
      "Current PSNR: 34.62650735983884\n",
      "Current file 8: IMG_4312_eslf.png\n",
      "Current PSNR: 39.12376352281682\n",
      "Current file 9: IMG_4457_eslf.png\n",
      "Current PSNR: 37.30387991918289\n",
      "Current file 10: IMG_4492_eslf.png\n",
      "Current PSNR: 38.86682391264303\n",
      "Current file 11: IMG_4498_eslf.png\n",
      "Current PSNR: 37.341038126530876\n",
      "Current file 12: IMG_4501_eslf.png\n",
      "Current PSNR: 35.2839519088774\n",
      "Current file 13: IMG_4502_eslf.png\n",
      "Current PSNR: 38.06227398247785\n",
      "Current file 14: IMG_4512_eslf.png\n",
      "Current PSNR: 41.099042541263415\n",
      "Current file 15: IMG_4529_eslf.png\n",
      "Current PSNR: 37.710073592038164\n",
      "Current file 16: IMG_4531_eslf.png\n",
      "Current PSNR: 34.79164541931118\n",
      "Current file 17: IMG_4564_eslf.png\n",
      "Current PSNR: 32.2892180279361\n",
      "Current file 18: IMG_4700_eslf.png\n",
      "Current PSNR: 27.846017133609323\n",
      "Current file 19: IMG_4760_eslf.png\n",
      "Current PSNR: 37.699358530788054\n",
      "Current file 20: IMG_4866_eslf.png\n",
      "Current PSNR: 36.01737768343858\n",
      "Current file 21: IMG_4902_eslf.png\n",
      "Current PSNR: 34.773094547340506\n",
      "Current file 22: IMG_4912_eslf.png\n",
      "Current PSNR: 36.07094156637803\n",
      "Current file 23: IMG_4945_eslf.png\n",
      "Current PSNR: 38.55067729088365\n",
      "Current file 24: IMG_4974_eslf.png\n",
      "Current PSNR: 40.61776466916341\n",
      "Current file 25: IMG_4977_eslf.png\n",
      "Current PSNR: 35.71050302980049\n",
      "Current file 26: IMG_4984_eslf.png\n",
      "Current PSNR: 39.23000370045281\n",
      "Current file 27: IMG_5092_eslf.png\n",
      "Current PSNR: 39.493438582729766\n",
      "Current file 28: IMG_5097_eslf.png\n",
      "Current PSNR: 35.82215396867122\n",
      "Current file 29: IMG_5141_eslf.png\n",
      "Current PSNR: 39.067423470444126\n",
      "Current file 30: IMG_5159_eslf.png\n",
      "Current PSNR: 38.08392301523475\n",
      "Current file 31: IMG_5165_eslf.png\n",
      "Current PSNR: 40.17190871820231\n",
      "Current file 32: IMG_5183_eslf.png\n",
      "Current PSNR: 40.44923765584345\n",
      "Current file 33: IMG_5259_eslf.png\n",
      "Current PSNR: 42.10117655941873\n",
      "Current file 34: IMG_5280_eslf.png\n",
      "Current PSNR: 39.31481499718273\n",
      "Current file 35: IMG_5295_eslf.png\n",
      "Current PSNR: 42.465841102428314\n",
      "Current file 36: IMG_5302_eslf.png\n",
      "Current PSNR: 41.384746517191395\n",
      "Current file 37: IMG_5387_eslf.png\n",
      "Current PSNR: 38.44866454896999\n",
      "Current file 38: IMG_5408_eslf.png\n",
      "Current PSNR: 35.8028730612799\n",
      "Current file 39: IMG_5489_eslf.png\n",
      "Current PSNR: 36.9806112360917\n",
      "Current file 40: IMG_5551_eslf.png\n",
      "Current PSNR: 38.45866672285742\n",
      "Current file 41: IMG_5620_eslf.png\n",
      "Current PSNR: 37.66393208629113\n",
      "Current file 42: IMG_6280_eslf.png\n",
      "Current PSNR: 40.56304119210183\n",
      "Current file 43: IMG_6285_eslf.png\n",
      "Current PSNR: 39.69991054849276\n",
      "Current file 44: IMG_6331_eslf.png\n",
      "Current PSNR: 40.9794082820911\n",
      "Current file 45: IMG_6359_eslf.png\n",
      "Current PSNR: 40.002331031840896\n",
      "Current file 46: IMG_6431_eslf.png\n",
      "Current PSNR: 38.96288709263755\n",
      "Current file 47: IMG_6435_eslf.png\n",
      "Current PSNR: 37.33287205947999\n",
      "Current file 48: IMG_6440_eslf.png\n",
      "Current PSNR: 34.88159211103571\n",
      "Current file 49: IMG_6441_eslf.png\n",
      "Current PSNR: 34.35510589540686\n",
      "Current file 50: IMG_6466_eslf.png\n",
      "Current PSNR: 39.68352016108439\n",
      "Current file 51: IMG_6489_eslf.png\n",
      "Current PSNR: 38.234074708242304\n",
      "Current file 52: IMG_6494_eslf.png\n",
      "Current PSNR: 38.97178225747609\n",
      "Current file 53: IMG_6517_eslf.png\n",
      "Current PSNR: 38.441456274712344\n",
      "Current file 54: IMG_6547_eslf.png\n",
      "Current PSNR: 39.27093795845579\n",
      "Current file 55: IMG_6568_eslf.png\n",
      "Current PSNR: 34.99795966275077\n",
      "Current file 56: IMG_6583_eslf.png\n",
      "Current PSNR: 38.747473895502495\n",
      "Current file 57: IMG_6622_eslf.png\n",
      "Current PSNR: 33.81816301230743\n",
      "Current file 58: IMG_6707_eslf.png\n",
      "Current PSNR: 34.325328578564196\n",
      "Current file 59: IMG_6718_eslf.png\n",
      "Current PSNR: 36.79725825136562\n",
      "Current file 60: IMG_6736_eslf.png\n",
      "Current PSNR: 37.885260187129575\n",
      "Current file 61: IMG_6755_eslf.png\n",
      "Current PSNR: 39.603469432833776\n",
      "Current file 62: IMG_6782_eslf.png\n",
      "Current PSNR: 39.74744075655123\n",
      "Current file 63: IMG_6807_eslf.png\n",
      "Current PSNR: 39.467240270076054\n",
      "Current file 64: IMG_6878_eslf.png\n",
      "Current PSNR: 38.60214489796619\n",
      "Current file 65: IMG_6931_eslf.png\n",
      "Current PSNR: 35.3463236096693\n",
      "Current file 66: IMG_6941_eslf.png\n",
      "Current PSNR: 35.512256683877425\n",
      "Current file 67: IMG_7006_eslf.png\n",
      "Current PSNR: 38.103344888485694\n",
      "Current file 68: IMG_7045_eslf.png\n",
      "Current PSNR: 36.525917938387366\n",
      "Current file 69: IMG_7102_eslf.png\n",
      "Current PSNR: 40.489368563668556\n",
      "Current file 70: IMG_7148_eslf.png\n",
      "Current PSNR: 38.89343053719624\n",
      "Current file 71: IMG_7183_eslf.png\n",
      "Current PSNR: 40.94664905980418\n",
      "Current file 72: IMG_7196_eslf.png\n",
      "Current PSNR: 39.93062336365586\n",
      "Current file 73: IMG_7198_eslf.png\n",
      "Current PSNR: 39.974752384431696\n",
      "Current file 74: IMG_7219_eslf.png\n",
      "Current PSNR: 35.44832320931759\n",
      "Current file 75: IMG_7353_eslf.png\n",
      "Current PSNR: 34.99624740787901\n",
      "Current file 76: IMG_7368_eslf.png\n",
      "Current PSNR: 37.35796385797251\n",
      "Current file 77: IMG_7432_eslf.png\n",
      "Current PSNR: 33.39385688747052\n",
      "Current file 78: IMG_7466_eslf.png\n",
      "Current PSNR: 35.5889394544195\n",
      "Current file 79: IMG_7512_eslf.png\n",
      "Current PSNR: 32.98550254123508\n",
      "Current file 80: IMG_7574_eslf.png\n",
      "Current PSNR: 35.50129508515575\n",
      "Current file 81: IMG_7625_eslf.png\n",
      "Current PSNR: 41.90857165269004\n",
      "Current file 82: IMG_7645_eslf.png\n",
      "Current PSNR: 41.48279616551984\n",
      "Current file 83: IMG_7708_eslf.png\n",
      "Current PSNR: 39.437110752263436\n",
      "Current file 84: IMG_7740_eslf.png\n",
      "Current PSNR: 39.807602125570945\n",
      "Current file 85: IMG_7814_eslf.png\n",
      "Current PSNR: 41.159140886474006\n",
      "Current file 86: IMG_7830_eslf.png\n",
      "Current PSNR: 40.64831854072331\n",
      "Current file 87: IMG_7897_eslf.png\n",
      "Current PSNR: 40.291761117207\n",
      "Current file 88: IMG_7940_eslf.png\n",
      "Current PSNR: 40.324173725522066\n",
      "Current file 89: IMG_7957_eslf.png\n",
      "Current PSNR: 39.14147138073099\n",
      "Current file 90: IMG_7992_eslf.png\n",
      "Current PSNR: 40.000071963873296\n",
      "Current file 91: IMG_7998_eslf.png\n",
      "Current PSNR: 39.59245224927994\n",
      "Current file 92: IMG_8029_eslf.png\n",
      "Current PSNR: 38.59110272704911\n",
      "Current file 93: IMG_8063_eslf.png\n",
      "Current PSNR: 39.23237592199526\n",
      "Current file 94: IMG_8066_eslf.png\n",
      "Current PSNR: 41.22329231956759\n",
      "Current file 95: IMG_8115_eslf.png\n",
      "Current PSNR: 40.01884001487156\n",
      "Current file 96: IMG_8174_eslf.png\n",
      "Current PSNR: 39.99175748351478\n",
      "Current file 97: IMG_8190_eslf.png\n",
      "Current PSNR: 38.59718000954643\n",
      "Current file 98: IMG_8198_eslf.png\n",
      "Current PSNR: 39.93759784825367\n",
      "Current file 99: IMG_8208_eslf.png\n",
      "Current PSNR: 39.34852967438863\n"
     ]
    },
    {
     "data": {
      "text/plain": [
       "38.03256347785122"
      ]
     },
     "execution_count": 22,
     "metadata": {},
     "output_type": "execute_result"
    }
   ],
   "source": [
    "# With Bias and affine (B_BA_GN with gamma = 1.0)\n",
    "now = datetime.now()\n",
    "dt_string = now.strftime(\"%d/%m/%Y %H:%M:%S\")\n",
    "print(\"date and time =\", dt_string)\n",
    "ps = run_all_examples(test_sri)\n",
    "ps.reshape(100,-1)[:,[i for i in range(49) if (i-np.array((0,6,42,48))).all()]].mean()"
   ]
  },
  {
   "cell_type": "code",
   "execution_count": 11,
   "metadata": {
    "scrolled": true
   },
   "outputs": [
    {
     "name": "stdout",
     "output_type": "stream",
     "text": [
      "date and time = 11/04/2020 07:56:02\n",
      "Current file 0: Cars.png\n"
     ]
    },
    {
     "name": "stderr",
     "output_type": "stream",
     "text": [
      "C:\\Users\\mummu\\AppData\\Local\\Continuum\\anaconda3\\lib\\site-packages\\torch\\nn\\functional.py:2404: UserWarning: nn.functional.upsample is deprecated. Use nn.functional.interpolate instead.\n",
      "  warnings.warn(\"nn.functional.upsample is deprecated. Use nn.functional.interpolate instead.\")\n"
     ]
    },
    {
     "name": "stdout",
     "output_type": "stream",
     "text": [
      "Current PSNR: 31.65331653148153\n",
      "Current file 1: Flower1.png\n",
      "Current PSNR: 33.063138167784835\n",
      "Current file 2: Flower2.png\n",
      "Current PSNR: 33.10115348909338\n",
      "Current file 3: IMG_1085_eslf.png\n",
      "Current PSNR: 40.54895287616024\n",
      "Current file 4: IMG_1086_eslf.png\n",
      "Current PSNR: 41.92977879786509\n",
      "Current file 5: IMG_1184_eslf.png\n",
      "Current PSNR: 41.8014564459335\n",
      "Current file 6: IMG_1187_eslf.png\n",
      "Current PSNR: 40.98899065166328\n",
      "Current file 7: IMG_1306_eslf.png\n",
      "Current PSNR: 37.97723081759351\n",
      "Current file 8: IMG_1312_eslf.png\n",
      "Current PSNR: 44.591589972772745\n",
      "Current file 9: IMG_1316_eslf.png\n",
      "Current PSNR: 38.53157326406664\n",
      "Current file 10: IMG_1317_eslf.png\n",
      "Current PSNR: 36.6087282748514\n",
      "Current file 11: IMG_1320_eslf.png\n",
      "Current PSNR: 36.70399844544188\n",
      "Current file 12: IMG_1321_eslf.png\n",
      "Current PSNR: 43.65319311343416\n",
      "Current file 13: IMG_1324_eslf.png\n",
      "Current PSNR: 48.06540431111889\n",
      "Current file 14: IMG_1325_eslf.png\n",
      "Current PSNR: 40.8826237245765\n",
      "Current file 15: IMG_1327_eslf.png\n",
      "Current PSNR: 37.599250468677646\n",
      "Current file 16: IMG_1328_eslf.png\n",
      "Current PSNR: 41.85912956766023\n",
      "Current file 17: IMG_1340_eslf.png\n",
      "Current PSNR: 45.48454928809132\n",
      "Current file 18: IMG_1389_eslf.png\n",
      "Current PSNR: 42.817905593112464\n",
      "Current file 19: IMG_1390_eslf.png\n",
      "Current PSNR: 45.23521282493267\n",
      "Current file 20: IMG_1411_eslf.png\n",
      "Current PSNR: 31.616496876478838\n",
      "Current file 21: IMG_1419_eslf.png\n",
      "Current PSNR: 33.71328885988915\n",
      "Current file 22: IMG_1528_eslf.png\n",
      "Current PSNR: 33.2851459234252\n",
      "Current file 23: IMG_1541_eslf.png\n",
      "Current PSNR: 34.09540419551292\n",
      "Current file 24: IMG_1554_eslf.png\n",
      "Current PSNR: 28.75884557563691\n",
      "Current file 25: IMG_1555_eslf.png\n",
      "Current PSNR: 31.43502541059532\n",
      "Current file 26: IMG_1586_eslf.png\n",
      "Current PSNR: 39.442391755641445\n",
      "Current file 27: IMG_1743_eslf.png\n",
      "Current PSNR: 36.12518502767499\n",
      "Current file 28: Rock.png\n",
      "Current PSNR: 36.02942503052107\n",
      "Current file 29: Seahorse.png\n",
      "Current PSNR: 34.54880133860646\n"
     ]
    },
    {
     "data": {
      "text/plain": [
       "38.07157288734314"
      ]
     },
     "execution_count": 11,
     "metadata": {},
     "output_type": "execute_result"
    }
   ],
   "source": [
    "# With Bias and affine (B_BA_GN with gamma = 1.0)\n",
    "now = datetime.now()\n",
    "dt_string = now.strftime(\"%d/%m/%Y %H:%M:%S\")\n",
    "print(\"date and time =\", dt_string)\n",
    "ps = run_all_examples(img_dir)\n",
    "ps.reshape(30,-1)[:,[i for i in range(49) if (i-np.array((0,6,42,48))).all()]].mean()"
   ]
  },
  {
   "cell_type": "code",
   "execution_count": 11,
   "metadata": {
    "scrolled": true
   },
   "outputs": [
    {
     "name": "stdout",
     "output_type": "stream",
     "text": [
      "date and time = 11/04/2020 03:07:07\n",
      "Current file 0: Cars.png\n"
     ]
    },
    {
     "name": "stderr",
     "output_type": "stream",
     "text": [
      "C:\\Users\\mummu\\AppData\\Local\\Continuum\\anaconda3\\lib\\site-packages\\torch\\nn\\functional.py:2404: UserWarning: nn.functional.upsample is deprecated. Use nn.functional.interpolate instead.\n",
      "  warnings.warn(\"nn.functional.upsample is deprecated. Use nn.functional.interpolate instead.\")\n"
     ]
    },
    {
     "name": "stdout",
     "output_type": "stream",
     "text": [
      "Current PSNR: 31.65890939638865\n",
      "Current file 1: Flower1.png\n",
      "Current PSNR: 33.09178915155239\n",
      "Current file 2: Flower2.png\n",
      "Current PSNR: 33.0424867295445\n",
      "Current file 3: IMG_1085_eslf.png\n",
      "Current PSNR: 40.47743286002026\n",
      "Current file 4: IMG_1086_eslf.png\n",
      "Current PSNR: 42.20309284326313\n",
      "Current file 5: IMG_1184_eslf.png\n",
      "Current PSNR: 41.785172253737024\n",
      "Current file 6: IMG_1187_eslf.png\n",
      "Current PSNR: 41.03474595522944\n",
      "Current file 7: IMG_1306_eslf.png\n",
      "Current PSNR: 38.06988527088612\n",
      "Current file 8: IMG_1312_eslf.png\n",
      "Current PSNR: 44.61539989200505\n",
      "Current file 9: IMG_1316_eslf.png\n",
      "Current PSNR: 38.83022970045545\n",
      "Current file 10: IMG_1317_eslf.png\n",
      "Current PSNR: 37.08614632482467\n",
      "Current file 11: IMG_1320_eslf.png\n",
      "Current PSNR: 36.60296386114104\n",
      "Current file 12: IMG_1321_eslf.png\n",
      "Current PSNR: 43.72027472827506\n",
      "Current file 13: IMG_1324_eslf.png\n",
      "Current PSNR: 47.90157212542906\n",
      "Current file 14: IMG_1325_eslf.png\n",
      "Current PSNR: 40.996305911865655\n",
      "Current file 15: IMG_1327_eslf.png\n",
      "Current PSNR: 37.60883776920847\n",
      "Current file 16: IMG_1328_eslf.png\n",
      "Current PSNR: 41.72305361839234\n",
      "Current file 17: IMG_1340_eslf.png\n",
      "Current PSNR: 45.481613457291\n",
      "Current file 18: IMG_1389_eslf.png\n",
      "Current PSNR: 43.4325601722805\n",
      "Current file 19: IMG_1390_eslf.png\n",
      "Current PSNR: 45.602332159487986\n",
      "Current file 20: IMG_1411_eslf.png\n",
      "Current PSNR: 31.594959605735493\n",
      "Current file 21: IMG_1419_eslf.png\n",
      "Current PSNR: 33.81805009659928\n",
      "Current file 22: IMG_1528_eslf.png\n",
      "Current PSNR: 32.872619616971825\n",
      "Current file 23: IMG_1541_eslf.png\n",
      "Current PSNR: 33.92663753722874\n",
      "Current file 24: IMG_1554_eslf.png\n",
      "Current PSNR: 28.66132627909822\n",
      "Current file 25: IMG_1555_eslf.png\n",
      "Current PSNR: 31.397845588068872\n",
      "Current file 26: IMG_1586_eslf.png\n",
      "Current PSNR: 39.76010758590445\n",
      "Current file 27: IMG_1743_eslf.png\n",
      "Current PSNR: 36.02939072254263\n",
      "Current file 28: Rock.png\n",
      "Current PSNR: 35.98831706430478\n",
      "Current file 29: Seahorse.png\n",
      "Current PSNR: 34.58878010083095\n"
     ]
    },
    {
     "data": {
      "text/plain": [
       "38.120094612618765"
      ]
     },
     "execution_count": 11,
     "metadata": {},
     "output_type": "execute_result"
    }
   ],
   "source": [
    "# With Bias and affine (B_BA_GN with gamma = 1.0)\n",
    "now = datetime.now()\n",
    "dt_string = now.strftime(\"%d/%m/%Y %H:%M:%S\")\n",
    "print(\"date and time =\", dt_string)\n",
    "ps = run_all_examples(img_dir)\n",
    "ps.reshape(30,-1)[:,[i for i in range(49) if (i-np.array((0,6,42,48))).all()]].mean()"
   ]
  },
  {
   "cell_type": "code",
   "execution_count": 11,
   "metadata": {
    "scrolled": true
   },
   "outputs": [
    {
     "name": "stdout",
     "output_type": "stream",
     "text": [
      "date and time = 10/04/2020 18:05:01\n",
      "Current file 0: Cars.png\n"
     ]
    },
    {
     "name": "stderr",
     "output_type": "stream",
     "text": [
      "C:\\Users\\mummu\\AppData\\Local\\Continuum\\anaconda3\\lib\\site-packages\\torch\\nn\\functional.py:2404: UserWarning: nn.functional.upsample is deprecated. Use nn.functional.interpolate instead.\n",
      "  warnings.warn(\"nn.functional.upsample is deprecated. Use nn.functional.interpolate instead.\")\n"
     ]
    },
    {
     "name": "stdout",
     "output_type": "stream",
     "text": [
      "Current PSNR: 31.671143208376034\n",
      "Current file 1: Flower1.png\n",
      "Current PSNR: 32.9986811813141\n",
      "Current file 2: Flower2.png\n",
      "Current PSNR: 33.013353950695475\n",
      "Current file 3: IMG_1085_eslf.png\n",
      "Current PSNR: 40.524578196422794\n",
      "Current file 4: IMG_1086_eslf.png\n",
      "Current PSNR: 42.24410899690316\n",
      "Current file 5: IMG_1184_eslf.png\n",
      "Current PSNR: 41.52694205242328\n",
      "Current file 6: IMG_1187_eslf.png\n",
      "Current PSNR: 40.81034569079054\n",
      "Current file 7: IMG_1306_eslf.png\n",
      "Current PSNR: 37.95514657201201\n",
      "Current file 8: IMG_1312_eslf.png\n",
      "Current PSNR: 44.31296690303726\n",
      "Current file 9: IMG_1316_eslf.png\n",
      "Current PSNR: 38.913208189796855\n",
      "Current file 10: IMG_1317_eslf.png\n",
      "Current PSNR: 37.182436352989036\n",
      "Current file 11: IMG_1320_eslf.png\n",
      "Current PSNR: 36.73491793856874\n",
      "Current file 12: IMG_1321_eslf.png\n",
      "Current PSNR: 43.33182485605262\n",
      "Current file 13: IMG_1324_eslf.png\n",
      "Current PSNR: 46.97070450465198\n",
      "Current file 14: IMG_1325_eslf.png\n",
      "Current PSNR: 40.654299076075006\n",
      "Current file 15: IMG_1327_eslf.png\n",
      "Current PSNR: 37.53091811349444\n",
      "Current file 16: IMG_1328_eslf.png\n",
      "Current PSNR: 41.64307589834493\n",
      "Current file 17: IMG_1340_eslf.png\n",
      "Current PSNR: 45.32959862087037\n",
      "Current file 18: IMG_1389_eslf.png\n",
      "Current PSNR: 43.10868411460631\n",
      "Current file 19: IMG_1390_eslf.png\n",
      "Current PSNR: 45.050516742857475\n",
      "Current file 20: IMG_1411_eslf.png\n",
      "Current PSNR: 31.49743330487232\n",
      "Current file 21: IMG_1419_eslf.png\n",
      "Current PSNR: 33.7661209800154\n",
      "Current file 22: IMG_1528_eslf.png\n",
      "Current PSNR: 33.09372958406321\n",
      "Current file 23: IMG_1541_eslf.png\n",
      "Current PSNR: 34.07601774285385\n",
      "Current file 24: IMG_1554_eslf.png\n",
      "Current PSNR: 28.635675831299316\n",
      "Current file 25: IMG_1555_eslf.png\n",
      "Current PSNR: 31.255570751566488\n",
      "Current file 26: IMG_1586_eslf.png\n",
      "Current PSNR: 39.69973942566096\n",
      "Current file 27: IMG_1743_eslf.png\n",
      "Current PSNR: 36.863202107460744\n",
      "Current file 28: Rock.png\n",
      "Current PSNR: 35.914163786608064\n",
      "Current file 29: Seahorse.png\n",
      "Current PSNR: 34.58275200833794\n"
     ]
    },
    {
     "data": {
      "text/plain": [
       "38.02972855610069"
      ]
     },
     "execution_count": 11,
     "metadata": {},
     "output_type": "execute_result"
    }
   ],
   "source": [
    "# With Bias and affine (B_BA_GN with gamma = 1.0)\n",
    "now = datetime.now()\n",
    "dt_string = now.strftime(\"%d/%m/%Y %H:%M:%S\")\n",
    "print(\"date and time =\", dt_string)\n",
    "ps = run_all_examples(img_dir)\n",
    "ps.reshape(30,-1)[:,[i for i in range(49) if (i-np.array((0,6,42,48))).all()]].mean()"
   ]
  },
  {
   "cell_type": "code",
   "execution_count": 15,
   "metadata": {
    "scrolled": true
   },
   "outputs": [
    {
     "name": "stdout",
     "output_type": "stream",
     "text": [
      "date and time = 10/04/2020 17:45:01\n",
      "Current file 0: Cars.png\n",
      "Current PSNR: 35.652806428074086\n",
      "Current file 1: Flower1.png\n",
      "Current PSNR: 33.454072975005275\n",
      "Current file 2: Flower2.png\n",
      "Current PSNR: 33.49075513358508\n",
      "Current file 3: IMG_1085_eslf.png\n",
      "Current PSNR: 39.05267021857513\n",
      "Current file 4: IMG_1086_eslf.png\n",
      "Current PSNR: 38.07664322264795\n",
      "Current file 5: IMG_1184_eslf.png\n",
      "Current PSNR: 39.20468578312582\n",
      "Current file 6: IMG_1187_eslf.png\n",
      "Current PSNR: 37.98801502837993\n",
      "Current file 7: IMG_1306_eslf.png\n",
      "Current PSNR: 37.117862996762696\n",
      "Current file 8: IMG_1312_eslf.png\n",
      "Current PSNR: 40.27463605636852\n",
      "Current file 9: IMG_1316_eslf.png\n",
      "Current PSNR: 35.179398655929596\n",
      "Current file 10: IMG_1317_eslf.png\n",
      "Current PSNR: 33.96704974987906\n",
      "Current file 11: IMG_1320_eslf.png\n",
      "Current PSNR: 35.212496280140165\n",
      "Current file 12: IMG_1321_eslf.png\n",
      "Current PSNR: 39.64762908444187\n",
      "Current file 13: IMG_1324_eslf.png\n",
      "Current PSNR: 38.923744277489426\n",
      "Current file 14: IMG_1325_eslf.png\n",
      "Current PSNR: 35.442444514652195\n",
      "Current file 15: IMG_1327_eslf.png\n",
      "Current PSNR: 37.087041364607565\n",
      "Current file 16: IMG_1328_eslf.png\n",
      "Current PSNR: 38.44650021685301\n",
      "Current file 17: IMG_1340_eslf.png\n",
      "Current PSNR: 40.334609444681604\n",
      "Current file 18: IMG_1389_eslf.png\n",
      "Current PSNR: 40.241898950822495\n",
      "Current file 19: IMG_1390_eslf.png\n",
      "Current PSNR: 40.55033055843253\n",
      "Current file 20: IMG_1411_eslf.png\n",
      "Current PSNR: 33.48319794773856\n",
      "Current file 21: IMG_1419_eslf.png\n",
      "Current PSNR: 34.84625458110532\n",
      "Current file 22: IMG_1528_eslf.png\n",
      "Current PSNR: 35.401615230764186\n",
      "Current file 23: IMG_1541_eslf.png\n",
      "Current PSNR: 34.70750695272333\n",
      "Current file 24: IMG_1554_eslf.png\n",
      "Current PSNR: 31.381869232318888\n",
      "Current file 25: IMG_1555_eslf.png\n",
      "Current PSNR: 32.5990183063697\n",
      "Current file 26: IMG_1586_eslf.png\n",
      "Current PSNR: 37.72378929955558\n",
      "Current file 27: IMG_1743_eslf.png\n",
      "Current PSNR: 34.260763182475834\n",
      "Current file 28: Rock.png\n",
      "Current PSNR: 36.459507740929645\n",
      "Current file 29: Seahorse.png\n",
      "Current PSNR: 35.34108579348049\n"
     ]
    },
    {
     "data": {
      "text/plain": [
       "36.51832997359718"
      ]
     },
     "execution_count": 15,
     "metadata": {},
     "output_type": "execute_result"
    }
   ],
   "source": [
    "# With Bias and affine (B_BA_GN with single feature network calling)\n",
    "now = datetime.now()\n",
    "dt_string = now.strftime(\"%d/%m/%Y %H:%M:%S\")\n",
    "print(\"date and time =\", dt_string)\n",
    "ps = run_all_examples(img_dir)\n",
    "ps.reshape(30,-1)[:,[i for i in range(49) if (i-np.array((0,6,42,48))).all()]].mean()"
   ]
  },
  {
   "cell_type": "code",
   "execution_count": 11,
   "metadata": {
    "scrolled": true
   },
   "outputs": [
    {
     "name": "stdout",
     "output_type": "stream",
     "text": [
      "date and time = 10/04/2020 17:32:53\n",
      "Current file 0: Cars.png\n"
     ]
    },
    {
     "name": "stderr",
     "output_type": "stream",
     "text": [
      "C:\\Users\\mummu\\AppData\\Local\\Continuum\\anaconda3\\lib\\site-packages\\torch\\nn\\functional.py:2404: UserWarning: nn.functional.upsample is deprecated. Use nn.functional.interpolate instead.\n",
      "  warnings.warn(\"nn.functional.upsample is deprecated. Use nn.functional.interpolate instead.\")\n"
     ]
    },
    {
     "name": "stdout",
     "output_type": "stream",
     "text": [
      "Current PSNR: 31.56458244234256\n",
      "Current file 1: Flower1.png\n",
      "Current PSNR: 32.89688643086002\n",
      "Current file 2: Flower2.png\n",
      "Current PSNR: 32.94188745427576\n",
      "Current file 3: IMG_1085_eslf.png\n",
      "Current PSNR: 40.386279504937725\n",
      "Current file 4: IMG_1086_eslf.png\n",
      "Current PSNR: 42.25482126767094\n",
      "Current file 5: IMG_1184_eslf.png\n",
      "Current PSNR: 41.60761296663459\n",
      "Current file 6: IMG_1187_eslf.png\n",
      "Current PSNR: 40.86447713174883\n",
      "Current file 7: IMG_1306_eslf.png\n",
      "Current PSNR: 38.03130162805674\n",
      "Current file 8: IMG_1312_eslf.png\n",
      "Current PSNR: 44.6457955327356\n",
      "Current file 9: IMG_1316_eslf.png\n",
      "Current PSNR: 38.570005289907066\n",
      "Current file 10: IMG_1317_eslf.png\n",
      "Current PSNR: 36.71357308391853\n",
      "Current file 11: IMG_1320_eslf.png\n",
      "Current PSNR: 36.454964561180596\n",
      "Current file 12: IMG_1321_eslf.png\n",
      "Current PSNR: 43.57230434742184\n",
      "Current file 13: IMG_1324_eslf.png\n",
      "Current PSNR: 47.82780775145554\n",
      "Current file 14: IMG_1325_eslf.png\n",
      "Current PSNR: 40.67158872010631\n",
      "Current file 15: IMG_1327_eslf.png\n",
      "Current PSNR: 37.40483906858932\n",
      "Current file 16: IMG_1328_eslf.png\n",
      "Current PSNR: 41.639422731368235\n",
      "Current file 17: IMG_1340_eslf.png\n",
      "Current PSNR: 45.36063709868217\n",
      "Current file 18: IMG_1389_eslf.png\n",
      "Current PSNR: 42.90811170590566\n",
      "Current file 19: IMG_1390_eslf.png\n",
      "Current PSNR: 45.341608962354016\n",
      "Current file 20: IMG_1411_eslf.png\n",
      "Current PSNR: 31.44649857270583\n",
      "Current file 21: IMG_1419_eslf.png\n",
      "Current PSNR: 33.56014957014215\n",
      "Current file 22: IMG_1528_eslf.png\n",
      "Current PSNR: 32.789232501165905\n",
      "Current file 23: IMG_1541_eslf.png\n",
      "Current PSNR: 33.71825341276913\n",
      "Current file 24: IMG_1554_eslf.png\n",
      "Current PSNR: 28.403786192216845\n",
      "Current file 25: IMG_1555_eslf.png\n",
      "Current PSNR: 31.192142478356473\n",
      "Current file 26: IMG_1586_eslf.png\n",
      "Current PSNR: 39.401623231743315\n",
      "Current file 27: IMG_1743_eslf.png\n",
      "Current PSNR: 36.32215221103892\n",
      "Current file 28: Rock.png\n",
      "Current PSNR: 35.85238667579737\n",
      "Current file 29: Seahorse.png\n",
      "Current PSNR: 34.423056330454656\n"
     ]
    },
    {
     "data": {
      "text/plain": [
       "37.95892629521809"
      ]
     },
     "execution_count": 11,
     "metadata": {},
     "output_type": "execute_result"
    }
   ],
   "source": [
    "# With Bias and affine (B_BA_GN with single feature network calling)\n",
    "now = datetime.now()\n",
    "dt_string = now.strftime(\"%d/%m/%Y %H:%M:%S\")\n",
    "print(\"date and time =\", dt_string)\n",
    "ps = run_all_examples(img_dir)\n",
    "ps.reshape(30,-1)[:,[i for i in range(49) if (i-np.array((0,6,42,48))).all()]].mean()"
   ]
  },
  {
   "cell_type": "code",
   "execution_count": 10,
   "metadata": {
    "scrolled": true
   },
   "outputs": [
    {
     "name": "stdout",
     "output_type": "stream",
     "text": [
      "date and time = 10/04/2020 14:25:48\n",
      "Current file 0: Cars.png\n"
     ]
    },
    {
     "name": "stderr",
     "output_type": "stream",
     "text": [
      "C:\\Users\\mummu\\AppData\\Local\\Continuum\\anaconda3\\lib\\site-packages\\torch\\nn\\functional.py:2404: UserWarning: nn.functional.upsample is deprecated. Use nn.functional.interpolate instead.\n",
      "  warnings.warn(\"nn.functional.upsample is deprecated. Use nn.functional.interpolate instead.\")\n"
     ]
    },
    {
     "name": "stdout",
     "output_type": "stream",
     "text": [
      "Current PSNR: 31.382833399655865\n",
      "Current file 1: Flower1.png\n",
      "Current PSNR: 32.70619330794434\n",
      "Current file 2: Flower2.png\n",
      "Current PSNR: 32.701620368135266\n",
      "Current file 3: IMG_1085_eslf.png\n",
      "Current PSNR: 40.37764533724835\n",
      "Current file 4: IMG_1086_eslf.png\n",
      "Current PSNR: 41.93206592807629\n",
      "Current file 5: IMG_1184_eslf.png\n",
      "Current PSNR: 41.49288818707576\n",
      "Current file 6: IMG_1187_eslf.png\n",
      "Current PSNR: 40.89677507920642\n",
      "Current file 7: IMG_1306_eslf.png\n",
      "Current PSNR: 38.11147950682954\n",
      "Current file 8: IMG_1312_eslf.png\n",
      "Current PSNR: 44.74333617134318\n",
      "Current file 9: IMG_1316_eslf.png\n",
      "Current PSNR: 39.077544026964205\n",
      "Current file 10: IMG_1317_eslf.png\n",
      "Current PSNR: 37.02407207482338\n",
      "Current file 11: IMG_1320_eslf.png\n",
      "Current PSNR: 36.23815301480639\n",
      "Current file 12: IMG_1321_eslf.png\n",
      "Current PSNR: 43.79007948925034\n",
      "Current file 13: IMG_1324_eslf.png\n",
      "Current PSNR: 47.93220093968056\n",
      "Current file 14: IMG_1325_eslf.png\n",
      "Current PSNR: 40.61517268722942\n",
      "Current file 15: IMG_1327_eslf.png\n",
      "Current PSNR: 37.29209699525674\n",
      "Current file 16: IMG_1328_eslf.png\n",
      "Current PSNR: 41.68556115893217\n",
      "Current file 17: IMG_1340_eslf.png\n",
      "Current PSNR: 45.69457597390866\n",
      "Current file 18: IMG_1389_eslf.png\n",
      "Current PSNR: 43.31568964791294\n",
      "Current file 19: IMG_1390_eslf.png\n",
      "Current PSNR: 45.5256366376491\n",
      "Current file 20: IMG_1411_eslf.png\n",
      "Current PSNR: 31.4168083995885\n",
      "Current file 21: IMG_1419_eslf.png\n",
      "Current PSNR: 33.4641429113297\n",
      "Current file 22: IMG_1528_eslf.png\n",
      "Current PSNR: 31.92338073916178\n",
      "Current file 23: IMG_1541_eslf.png\n",
      "Current PSNR: 33.01835070098507\n",
      "Current file 24: IMG_1554_eslf.png\n",
      "Current PSNR: 27.859580970444615\n",
      "Current file 25: IMG_1555_eslf.png\n",
      "Current PSNR: 30.72525403619911\n",
      "Current file 26: IMG_1586_eslf.png\n",
      "Current PSNR: 39.32869910733501\n",
      "Current file 27: IMG_1743_eslf.png\n",
      "Current PSNR: 35.67529627894465\n",
      "Current file 28: Rock.png\n",
      "Current PSNR: 35.40195278278188\n",
      "Current file 29: Seahorse.png\n",
      "Current PSNR: 34.0925881446547\n"
     ]
    },
    {
     "data": {
      "text/plain": [
       "37.8480558001118"
      ]
     },
     "execution_count": 10,
     "metadata": {},
     "output_type": "execute_result"
    }
   ],
   "source": [
    "# With Bias and affine (B_BA_GN with single feature network calling)\n",
    "now = datetime.now()\n",
    "dt_string = now.strftime(\"%d/%m/%Y %H:%M:%S\")\n",
    "print(\"date and time =\", dt_string)\n",
    "ps = run_all_examples(img_dir)\n",
    "ps.reshape(30,-1)[:,[i for i in range(49) if (i-np.array((0,6,42,48))).all()]].mean()"
   ]
  },
  {
   "cell_type": "code",
   "execution_count": 11,
   "metadata": {
    "scrolled": true
   },
   "outputs": [
    {
     "name": "stdout",
     "output_type": "stream",
     "text": [
      "date and time = 10/04/2020 13:33:07\n",
      "Current file 0: Cars.png\n"
     ]
    },
    {
     "name": "stderr",
     "output_type": "stream",
     "text": [
      "C:\\Users\\mummu\\AppData\\Local\\Continuum\\anaconda3\\lib\\site-packages\\torch\\nn\\functional.py:2404: UserWarning: nn.functional.upsample is deprecated. Use nn.functional.interpolate instead.\n",
      "  warnings.warn(\"nn.functional.upsample is deprecated. Use nn.functional.interpolate instead.\")\n"
     ]
    },
    {
     "name": "stdout",
     "output_type": "stream",
     "text": [
      "Current PSNR: 35.76724332094976\n",
      "Current file 1: Flower1.png\n",
      "Current PSNR: 33.46543979507194\n",
      "Current file 2: Flower2.png\n",
      "Current PSNR: 33.47927281416884\n",
      "Current file 3: IMG_1085_eslf.png\n",
      "Current PSNR: 39.19788291756552\n",
      "Current file 4: IMG_1086_eslf.png\n",
      "Current PSNR: 38.08389193907625\n",
      "Current file 5: IMG_1184_eslf.png\n",
      "Current PSNR: 39.377564174781064\n",
      "Current file 6: IMG_1187_eslf.png\n",
      "Current PSNR: 38.062408789266904\n",
      "Current file 7: IMG_1306_eslf.png\n",
      "Current PSNR: 37.12659381424504\n",
      "Current file 8: IMG_1312_eslf.png\n",
      "Current PSNR: 40.30032709667823\n",
      "Current file 9: IMG_1316_eslf.png\n",
      "Current PSNR: 35.379946675898864\n",
      "Current file 10: IMG_1317_eslf.png\n",
      "Current PSNR: 34.08107729429988\n",
      "Current file 11: IMG_1320_eslf.png\n",
      "Current PSNR: 35.202522995073004\n",
      "Current file 12: IMG_1321_eslf.png\n",
      "Current PSNR: 39.7031997164854\n",
      "Current file 13: IMG_1324_eslf.png\n",
      "Current PSNR: 38.89631821497982\n",
      "Current file 14: IMG_1325_eslf.png\n",
      "Current PSNR: 35.44505456113558\n",
      "Current file 15: IMG_1327_eslf.png\n",
      "Current PSNR: 37.101027009325726\n",
      "Current file 16: IMG_1328_eslf.png\n",
      "Current PSNR: 38.624291481397705\n",
      "Current file 17: IMG_1340_eslf.png\n",
      "Current PSNR: 40.36148558670805\n",
      "Current file 18: IMG_1389_eslf.png\n",
      "Current PSNR: 40.345782846198105\n",
      "Current file 19: IMG_1390_eslf.png\n",
      "Current PSNR: 40.49724457006749\n",
      "Current file 20: IMG_1411_eslf.png\n",
      "Current PSNR: 33.46988239089418\n",
      "Current file 21: IMG_1419_eslf.png\n",
      "Current PSNR: 35.02666406025643\n",
      "Current file 22: IMG_1528_eslf.png\n",
      "Current PSNR: 35.50537802824682\n",
      "Current file 23: IMG_1541_eslf.png\n",
      "Current PSNR: 34.936257225598595\n",
      "Current file 24: IMG_1554_eslf.png\n",
      "Current PSNR: 31.56940385279586\n",
      "Current file 25: IMG_1555_eslf.png\n",
      "Current PSNR: 32.66929249722846\n",
      "Current file 26: IMG_1586_eslf.png\n",
      "Current PSNR: 37.870040667499715\n",
      "Current file 27: IMG_1743_eslf.png\n",
      "Current PSNR: 34.880440803953796\n",
      "Current file 28: Rock.png\n",
      "Current PSNR: 36.34234803056688\n",
      "Current file 29: Seahorse.png\n",
      "Current PSNR: 35.45988753952798\n"
     ]
    },
    {
     "data": {
      "text/plain": [
       "36.6076056903314"
      ]
     },
     "execution_count": 11,
     "metadata": {},
     "output_type": "execute_result"
    }
   ],
   "source": [
    "# With Bias and affine (B_BA_GN with single feature network calling)\n",
    "now = datetime.now()\n",
    "dt_string = now.strftime(\"%d/%m/%Y %H:%M:%S\")\n",
    "print(\"date and time =\", dt_string)\n",
    "ps = run_all_examples(img_dir)\n",
    "ps.reshape(30,-1)[:,[i for i in range(49) if (i-np.array((0,6,42,48))).all()]].mean()"
   ]
  },
  {
   "cell_type": "code",
   "execution_count": 19,
   "metadata": {
    "scrolled": true
   },
   "outputs": [
    {
     "name": "stdout",
     "output_type": "stream",
     "text": [
      "date and time = 10/04/2020 12:42:41\n",
      "Current file 0: Cars.png\n"
     ]
    },
    {
     "name": "stderr",
     "output_type": "stream",
     "text": [
      "C:\\Users\\mummu\\AppData\\Local\\Continuum\\anaconda3\\lib\\site-packages\\torch\\nn\\functional.py:2404: UserWarning: nn.functional.upsample is deprecated. Use nn.functional.interpolate instead.\n",
      "  warnings.warn(\"nn.functional.upsample is deprecated. Use nn.functional.interpolate instead.\")\n"
     ]
    },
    {
     "name": "stdout",
     "output_type": "stream",
     "text": [
      "Current PSNR: 35.64493148428115\n",
      "Current file 1: Flower1.png\n",
      "Current PSNR: 33.63051648775872\n",
      "Current file 2: Flower2.png\n",
      "Current PSNR: 33.71048545646876\n",
      "Current file 3: IMG_1085_eslf.png\n",
      "Current PSNR: 39.12364287787234\n",
      "Current file 4: IMG_1086_eslf.png\n",
      "Current PSNR: 37.98122921801012\n",
      "Current file 5: IMG_1184_eslf.png\n",
      "Current PSNR: 39.301321105326075\n",
      "Current file 6: IMG_1187_eslf.png\n",
      "Current PSNR: 37.96784322591248\n",
      "Current file 7: IMG_1306_eslf.png\n",
      "Current PSNR: 37.02452944099787\n",
      "Current file 8: IMG_1312_eslf.png\n",
      "Current PSNR: 40.18912108501506\n",
      "Current file 9: IMG_1316_eslf.png\n",
      "Current PSNR: 35.28353977030705\n",
      "Current file 10: IMG_1317_eslf.png\n",
      "Current PSNR: 34.047813826731456\n",
      "Current file 11: IMG_1320_eslf.png\n",
      "Current PSNR: 35.27558061110782\n",
      "Current file 12: IMG_1321_eslf.png\n",
      "Current PSNR: 39.52844771118457\n",
      "Current file 13: IMG_1324_eslf.png\n",
      "Current PSNR: 38.78993227571625\n",
      "Current file 14: IMG_1325_eslf.png\n",
      "Current PSNR: 35.45246393194656\n",
      "Current file 15: IMG_1327_eslf.png\n",
      "Current PSNR: 37.071976115188804\n",
      "Current file 16: IMG_1328_eslf.png\n",
      "Current PSNR: 38.55063248574088\n",
      "Current file 17: IMG_1340_eslf.png\n",
      "Current PSNR: 40.2644949964736\n",
      "Current file 18: IMG_1389_eslf.png\n",
      "Current PSNR: 40.08062383915932\n",
      "Current file 19: IMG_1390_eslf.png\n",
      "Current PSNR: 40.29328045657874\n",
      "Current file 20: IMG_1411_eslf.png\n",
      "Current PSNR: 33.506981784811224\n",
      "Current file 21: IMG_1419_eslf.png\n",
      "Current PSNR: 34.77180157915395\n",
      "Current file 22: IMG_1528_eslf.png\n",
      "Current PSNR: 35.403655920587816\n",
      "Current file 23: IMG_1541_eslf.png\n",
      "Current PSNR: 35.053067543918615\n",
      "Current file 24: IMG_1554_eslf.png\n",
      "Current PSNR: 31.70448494669703\n",
      "Current file 25: IMG_1555_eslf.png\n",
      "Current PSNR: 32.79494898593995\n",
      "Current file 26: IMG_1586_eslf.png\n",
      "Current PSNR: 37.81768505515084\n",
      "Current file 27: IMG_1743_eslf.png\n",
      "Current PSNR: 34.462607098840365\n",
      "Current file 28: Rock.png\n",
      "Current PSNR: 36.443342149365826\n",
      "Current file 29: Seahorse.png\n",
      "Current PSNR: 35.34495423726726\n"
     ]
    },
    {
     "data": {
      "text/plain": [
       "36.55053119011702"
      ]
     },
     "execution_count": 19,
     "metadata": {},
     "output_type": "execute_result"
    }
   ],
   "source": [
    "# With Bias and affine (B_BA_GN with single feature network calling)\n",
    "now = datetime.now()\n",
    "dt_string = now.strftime(\"%d/%m/%Y %H:%M:%S\")\n",
    "print(\"date and time =\", dt_string)\n",
    "ps = run_all_examples(img_dir)\n",
    "ps.reshape(30,-1)[:,[i for i in range(49) if (i-np.array((0,6,42,48))).all()]].mean()"
   ]
  },
  {
   "cell_type": "code",
   "execution_count": 10,
   "metadata": {
    "scrolled": true
   },
   "outputs": [
    {
     "name": "stdout",
     "output_type": "stream",
     "text": [
      "date and time = 10/04/2020 08:29:29\n",
      "Current file 0: Cars.png\n"
     ]
    },
    {
     "name": "stderr",
     "output_type": "stream",
     "text": [
      "C:\\Users\\mummu\\AppData\\Local\\Continuum\\anaconda3\\lib\\site-packages\\torch\\nn\\functional.py:2404: UserWarning: nn.functional.upsample is deprecated. Use nn.functional.interpolate instead.\n",
      "  warnings.warn(\"nn.functional.upsample is deprecated. Use nn.functional.interpolate instead.\")\n",
      "C:\\Users\\mummu\\AppData\\Local\\Continuum\\anaconda3\\lib\\site-packages\\torch\\nn\\functional.py:2494: UserWarning: Default upsampling behavior when mode=bilinear is changed to align_corners=False since 0.4.0. Please specify align_corners=True if the old behavior is desired. See the documentation of nn.Upsample for details.\n",
      "  \"See the documentation of nn.Upsample for details.\".format(mode))\n"
     ]
    },
    {
     "name": "stdout",
     "output_type": "stream",
     "text": [
      "Current PSNR: 33.13520376628959\n",
      "Current file 1: Flower1.png\n",
      "Current PSNR: 30.1110657388269\n",
      "Current file 2: Flower2.png\n",
      "Current PSNR: 30.59833208692981\n",
      "Current file 3: IMG_1085_eslf.png\n",
      "Current PSNR: 37.1816968138568\n",
      "Current file 4: IMG_1086_eslf.png\n",
      "Current PSNR: 36.18199048998766\n",
      "Current file 5: IMG_1184_eslf.png\n",
      "Current PSNR: 38.771833602830554\n",
      "Current file 6: IMG_1187_eslf.png\n",
      "Current PSNR: 36.63478834981254\n",
      "Current file 7: IMG_1306_eslf.png\n",
      "Current PSNR: 33.87481352093022\n",
      "Current file 8: IMG_1312_eslf.png\n",
      "Current PSNR: 37.95681786459273\n",
      "Current file 9: IMG_1316_eslf.png\n",
      "Current PSNR: 34.27404369413072\n",
      "Current file 10: IMG_1317_eslf.png\n",
      "Current PSNR: 33.8919324429245\n",
      "Current file 11: IMG_1320_eslf.png\n",
      "Current PSNR: 32.49117355975516\n",
      "Current file 12: IMG_1321_eslf.png\n",
      "Current PSNR: 38.06056278452347\n",
      "Current file 13: IMG_1324_eslf.png\n",
      "Current PSNR: 38.14786332865406\n",
      "Current file 14: IMG_1325_eslf.png\n",
      "Current PSNR: 34.21159526095776\n",
      "Current file 15: IMG_1327_eslf.png\n",
      "Current PSNR: 34.388122312895185\n",
      "Current file 16: IMG_1328_eslf.png\n",
      "Current PSNR: 36.311468448914106\n",
      "Current file 17: IMG_1340_eslf.png\n",
      "Current PSNR: 38.86610980745448\n",
      "Current file 18: IMG_1389_eslf.png\n",
      "Current PSNR: 38.1316663008052\n",
      "Current file 19: IMG_1390_eslf.png\n",
      "Current PSNR: 37.8730568840238\n",
      "Current file 20: IMG_1411_eslf.png\n",
      "Current PSNR: 31.818525310406134\n",
      "Current file 21: IMG_1419_eslf.png\n",
      "Current PSNR: 34.37199596689916\n",
      "Current file 22: IMG_1528_eslf.png\n",
      "Current PSNR: 34.147467387890295\n",
      "Current file 23: IMG_1541_eslf.png\n",
      "Current PSNR: 33.2807439411083\n",
      "Current file 24: IMG_1554_eslf.png\n",
      "Current PSNR: 28.774064162831937\n",
      "Current file 25: IMG_1555_eslf.png\n",
      "Current PSNR: 29.66269833947277\n",
      "Current file 26: IMG_1586_eslf.png\n",
      "Current PSNR: 35.2974817598529\n",
      "Current file 27: IMG_1743_eslf.png\n",
      "Current PSNR: 34.81413245501159\n",
      "Current file 28: Rock.png\n",
      "Current PSNR: 34.791096085670844\n",
      "Current file 29: Seahorse.png\n",
      "Current PSNR: 33.556585820695254\n"
     ]
    },
    {
     "data": {
      "text/plain": [
       "34.720297609631146"
      ]
     },
     "execution_count": 10,
     "metadata": {},
     "output_type": "execute_result"
    }
   ],
   "source": [
    "# With Bias and affine (B_BA_GN with revisions)\n",
    "now = datetime.now()\n",
    "dt_string = now.strftime(\"%d/%m/%Y %H:%M:%S\")\n",
    "print(\"date and time =\", dt_string)\n",
    "ps = run_all_examples(img_dir)\n",
    "ps.reshape(30,-1)[:,[i for i in range(49) if (i-np.array((0,6,42,48))).all()]].mean()"
   ]
  },
  {
   "cell_type": "code",
   "execution_count": 9,
   "metadata": {
    "scrolled": true
   },
   "outputs": [
    {
     "name": "stdout",
     "output_type": "stream",
     "text": [
      "date and time = 09/04/2020 14:53:53\n",
      "Current file 0: Cars.png\n"
     ]
    },
    {
     "name": "stderr",
     "output_type": "stream",
     "text": [
      "C:\\Users\\mummu\\AppData\\Local\\Continuum\\anaconda3\\lib\\site-packages\\torch\\nn\\functional.py:2404: UserWarning: nn.functional.upsample is deprecated. Use nn.functional.interpolate instead.\n",
      "  warnings.warn(\"nn.functional.upsample is deprecated. Use nn.functional.interpolate instead.\")\n"
     ]
    },
    {
     "name": "stdout",
     "output_type": "stream",
     "text": [
      "Current PSNR: 35.68765470750665\n",
      "Current file 1: Flower1.png\n",
      "Current PSNR: 33.56225479544764\n",
      "Current file 2: Flower2.png\n",
      "Current PSNR: 33.61957833053744\n",
      "Current file 3: IMG_1085_eslf.png\n",
      "Current PSNR: 39.210608995630395\n",
      "Current file 4: IMG_1086_eslf.png\n",
      "Current PSNR: 38.149722113747615\n",
      "Current file 5: IMG_1184_eslf.png\n",
      "Current PSNR: 39.323658365850605\n",
      "Current file 6: IMG_1187_eslf.png\n",
      "Current PSNR: 37.98113817872829\n",
      "Current file 7: IMG_1306_eslf.png\n",
      "Current PSNR: 37.1022254914154\n",
      "Current file 8: IMG_1312_eslf.png\n",
      "Current PSNR: 40.24351599186964\n",
      "Current file 9: IMG_1316_eslf.png\n",
      "Current PSNR: 35.356232072390384\n",
      "Current file 10: IMG_1317_eslf.png\n",
      "Current PSNR: 34.054658340164565\n",
      "Current file 11: IMG_1320_eslf.png\n",
      "Current PSNR: 35.276994996364195\n",
      "Current file 12: IMG_1321_eslf.png\n",
      "Current PSNR: 39.69661654219664\n",
      "Current file 13: IMG_1324_eslf.png\n",
      "Current PSNR: 38.88528536776065\n",
      "Current file 14: IMG_1325_eslf.png\n",
      "Current PSNR: 35.543576878304464\n",
      "Current file 15: IMG_1327_eslf.png\n",
      "Current PSNR: 37.0794287703952\n",
      "Current file 16: IMG_1328_eslf.png\n",
      "Current PSNR: 38.67928715453323\n",
      "Current file 17: IMG_1340_eslf.png\n",
      "Current PSNR: 40.3534518504129\n",
      "Current file 18: IMG_1389_eslf.png\n",
      "Current PSNR: 40.45277013514684\n",
      "Current file 19: IMG_1390_eslf.png\n",
      "Current PSNR: 40.46559244755751\n",
      "Current file 20: IMG_1411_eslf.png\n",
      "Current PSNR: 33.517009854202925\n",
      "Current file 21: IMG_1419_eslf.png\n",
      "Current PSNR: 34.93662408152196\n",
      "Current file 22: IMG_1528_eslf.png\n",
      "Current PSNR: 35.60928732652973\n",
      "Current file 23: IMG_1541_eslf.png\n",
      "Current PSNR: 35.11138309306118\n",
      "Current file 24: IMG_1554_eslf.png\n",
      "Current PSNR: 31.656914784626153\n",
      "Current file 25: IMG_1555_eslf.png\n",
      "Current PSNR: 32.741716751453914\n",
      "Current file 26: IMG_1586_eslf.png\n",
      "Current PSNR: 37.97648900802076\n",
      "Current file 27: IMG_1743_eslf.png\n",
      "Current PSNR: 34.67558837840183\n",
      "Current file 28: Rock.png\n",
      "Current PSNR: 36.540804250283294\n",
      "Current file 29: Seahorse.png\n",
      "Current PSNR: 35.476604301930074\n"
     ]
    },
    {
     "data": {
      "text/plain": [
       "36.63222244519973"
      ]
     },
     "execution_count": 9,
     "metadata": {},
     "output_type": "execute_result"
    }
   ],
   "source": [
    "# With Bias and affine (B_BA_GN)\n",
    "now = datetime.now()\n",
    "dt_string = now.strftime(\"%d/%m/%Y %H:%M:%S\")\n",
    "print(\"date and time =\", dt_string)\n",
    "ps = run_all_examples(img_dir)\n",
    "ps.reshape(30,-1)[:,[i for i in range(49) if (i-np.array((0,6,42,48))).all()]].mean()\n",
    "# 36.63222244519973"
   ]
  }
 ],
 "metadata": {
  "kernelspec": {
   "display_name": "Python 3",
   "language": "python",
   "name": "python3"
  },
  "language_info": {
   "codemirror_mode": {
    "name": "ipython",
    "version": 3
   },
   "file_extension": ".py",
   "mimetype": "text/x-python",
   "name": "python",
   "nbconvert_exporter": "python",
   "pygments_lexer": "ipython3",
   "version": "3.7.4"
  }
 },
 "nbformat": 4,
 "nbformat_minor": 2
}
